{
 "metadata": {
  "language_info": {
   "codemirror_mode": {
    "name": "ipython",
    "version": 3
   },
   "file_extension": ".py",
   "mimetype": "text/x-python",
   "name": "python",
   "nbconvert_exporter": "python",
   "pygments_lexer": "ipython3",
   "version": "3.7.4-final"
  },
  "orig_nbformat": 2,
  "kernelspec": {
   "name": "Python 3.7.4 32-bit",
   "display_name": "Python 3.7.4 32-bit",
   "metadata": {
    "interpreter": {
     "hash": "206073fdc71521333a737b0bf05ac300ff0f327d9e1fb2d588e2f5f64c1c7cce"
    }
   }
  }
 },
 "nbformat": 4,
 "nbformat_minor": 2,
 "cells": [
  {
   "cell_type": "code",
   "execution_count": 1,
   "metadata": {},
   "outputs": [],
   "source": [
    "import numpy as np\n",
    "import cvxpy as cp\n",
    "np.set_printoptions(precision=3, suppress=True)"
   ]
  },
  {
   "cell_type": "code",
   "execution_count": 2,
   "metadata": {
    "tags": []
   },
   "outputs": [
    {
     "output_type": "stream",
     "name": "stdout",
     "text": "[[ 0.354 -0.5    0.   ]\n [ 0.354  0.    -0.5  ]] \n [[-0.707  1.     0.   ]\n [-0.707  0.     1.   ]]\n"
    }
   ],
   "source": [
    "def get_contacts():\n",
    "    \"\"\"\n",
    "        Return contact normals and locations as a matrix\n",
    "        :return: <np.array>, <np.array> locations and normal matrices\n",
    "    \"\"\"\n",
    "    # ------------------------------------------------\n",
    "    # FILL WITH YOUR CODE\n",
    "    l = 1\n",
    "\n",
    "    R = np.zeros((2,3))\n",
    "    N = np.zeros((2,3))\n",
    "    # print(R,\"\\t\",N)\n",
    "    R[:,0] = np.array([(2+np.sqrt(2))/4/(1+np.sqrt(2))*l,(2+np.sqrt(2))/4/(1+np.sqrt(2))*l]).reshape(1,2)\n",
    "    R[:,1] = np.array([-.5,0]).reshape(1,2)\n",
    "    R[:,2] = np.array([0,-.5]).reshape(1,2)\n",
    "\n",
    "    N[:,2] = np.array([0,1]).reshape(1,2)\n",
    "    N[:,1] = np.array([1,0]).reshape(1,2)\n",
    "    N[:,0] = np.array([-np.cos(np.pi/4),-np.sin(np.pi/4)]).reshape(1,2)\n",
    "    # ------------------------------------------------\n",
    "    return R, N\n",
    "\n",
    "# test\n",
    "R,N = get_contacts()\n",
    "print(R,\"\\n\",N)"
   ]
  },
  {
   "cell_type": "code",
   "execution_count": 3,
   "metadata": {
    "tags": []
   },
   "outputs": [
    {
     "output_type": "stream",
     "name": "stdout",
     "text": "[[-0.707 -0.707  0.     1.     1.     0.   ]\n [ 0.707 -0.707 -1.     0.    -0.     1.   ]\n [-0.5   -0.    -0.5    0.    -0.5   -0.   ]]\n"
    }
   ],
   "source": [
    "def calculate_grasp(R, N):\n",
    "    \"\"\"\n",
    "        Return the grasp matrix as a function of contact locations and normals\n",
    "        :param R: <np.array> locations of contact\n",
    "        :param N: <np.array> contact normals\n",
    "        :return: <np.array> Grasp matrix for Fig. 1\n",
    "    \"\"\"\n",
    "    # ------------------------------------------------\n",
    "    # FILL WITH YOUR CODE\n",
    "    G = np.zeros((3,6))\n",
    "    J = np.zeros((3,2))\n",
    "\n",
    "    for idx in range(3):\n",
    "        rx = R[0][idx]\n",
    "        ry = R[1][idx]\n",
    "        # print(rx,ry)\n",
    "        nx = N[0][idx]\n",
    "        ny = N[1][idx]\n",
    "        # print(nx,ny)\n",
    "        J = np.array([[ny, nx],\n",
    "                      [-nx, ny], \n",
    "                      [rx*nx+ry*ny, ry*nx-rx*ny]])\n",
    "        # print(J)\n",
    "        G[:,[idx*2,idx*2+1]] = J\n",
    "\n",
    "    # ------------------------------------------------\n",
    "    return G\n",
    "    \n",
    "# test\n",
    "G = calculate_grasp(R, N)\n",
    "print(G)"
   ]
  },
  {
   "cell_type": "code",
   "execution_count": 4,
   "metadata": {
    "tags": []
   },
   "outputs": [
    {
     "output_type": "stream",
     "name": "stdout",
     "text": "[[ 0.958  0.287  0.     0.     0.     0.   ]\n [-0.958  0.287  0.     0.     0.     0.   ]\n [ 0.     0.     0.958  0.287  0.     0.   ]\n [ 0.     0.    -0.958  0.287  0.     0.   ]\n [ 0.     0.     0.     0.     0.958  0.287]\n [ 0.     0.     0.     0.    -0.958  0.287]]\n"
    }
   ],
   "source": [
    "def calculate_facet(mu):\n",
    "    \"\"\"\n",
    "        Return friction cone representation in terms of facet normals\n",
    "        :param mu: <float> coefficient of friction\n",
    "        :return: <np.array> Facet normal matrix\n",
    "    \"\"\"\n",
    "    # ------------------------------------------------\n",
    "    # FILL WITH YOUR CODE\n",
    "    mu_mat = np.array([[1,mu],\n",
    "                      [-1,mu]])\n",
    "    # print(mu_mat)\n",
    "    f = 1/np.sqrt(1+mu**2)*mu_mat\n",
    "    # print(f)\n",
    "    F = np.zeros((6, 6))  \n",
    "    # print(F)\n",
    "    for idx in range(3):\n",
    "        F[2*idx:2*idx+2,2*idx:2*idx+2] = f\n",
    "    # ------------------------------------------------\n",
    "    return F\n",
    "    \n",
    "# test\n",
    "mu = 0.3\n",
    "F = calculate_facet(mu)\n",
    "print(F)"
   ]
  },
  {
   "cell_type": "code",
   "execution_count": 5,
   "metadata": {
    "tags": []
   },
   "outputs": [
    {
     "output_type": "stream",
     "name": "stdout",
     "text": "True\n"
    }
   ],
   "source": [
    "def compute_grasp_rank(G):\n",
    "    \"\"\"\n",
    "        Return boolean of if grasp has rank 3 or not\n",
    "        :param G: <np.array> grasp matrix as a numpy array\n",
    "        :return: <bool> boolean flag for if rank is 3 or not\n",
    "    \"\"\"\n",
    "    # ------------------------------------------------\n",
    "    # FILL WITH YOUR CODE\n",
    "    r = np.linalg.matrix_rank(G)\n",
    "    flag = (r == 3)\n",
    "    # ------------------------------------------------\n",
    "    return flag\n",
    "    \n",
    "# test\n",
    "flag = compute_grasp_rank(G)\n",
    "print(flag)"
   ]
  },
  {
   "cell_type": "code",
   "execution_count": 6,
   "metadata": {
    "tags": []
   },
   "outputs": [
    {
     "output_type": "stream",
     "name": "stdout",
     "text": "[[-0.707 -0.707  0.     1.     1.     0.     0.   ]\n [ 0.707 -0.707 -1.     0.    -0.     1.     0.   ]\n [-0.5   -0.    -0.5    0.    -0.5   -0.     0.   ]] \n [0. 0. 0.] \n [[-0.958 -0.287  0.     0.     0.     0.     1.   ]\n [ 0.958 -0.287  0.     0.     0.     0.     1.   ]\n [ 0.     0.    -0.958 -0.287  0.     0.     1.   ]\n [ 0.     0.     0.958 -0.287  0.     0.     1.   ]\n [ 0.     0.     0.     0.    -0.958 -0.287  1.   ]\n [ 0.     0.     0.     0.     0.958 -0.287  1.   ]\n [ 0.     1.     0.     1.     0.     1.     0.   ]\n [ 0.     0.     0.     0.     0.     0.    -1.   ]] \n [0. 0. 0. 0. 0. 0. 3. 0.] \n [0. 0. 0. 0. 0. 0. 1.]\n"
    }
   ],
   "source": [
    "def compute_constraints(G, F):\n",
    "    \"\"\"\n",
    "        Return grasp constraints as numpy arrays\n",
    "        :param G: <np.array> grasp matrix as a numpy array\n",
    "        :param F: <np.array> friction cone facet matrix as a numpy array\n",
    "        :return: <np.array>x5 contact constraints\n",
    "    \"\"\"\n",
    "    # ------------------------------------------------\n",
    "    # FILL WITH YOUR CODE\n",
    "\n",
    "    A = np.zeros((3,7))   # TODO: Replace None with your result\n",
    "    b = np.zeros((3,1))   # TODO: Replace None with your result\n",
    "    P = np.zeros((8,7))   # TODO: Replace None with your result\n",
    "    q = np.zeros((8,1))   # TODO: Replace None with your result\n",
    "    c = np.zeros((7,1))   # TODO: Replace None with your result\n",
    "\n",
    "    A[:,0:-1] = G\n",
    "\n",
    "    P[0:-2,0:-1] = 0-F\n",
    "    P[-2,0:-1] = [0,1,0,1,0,1]\n",
    "    P[0:-2,-1] = 1\n",
    "    P[-1,-1] = -1\n",
    "\n",
    "\n",
    "    q[-2] = 3\n",
    "    q[-1] = 0\n",
    "\n",
    "    c[-1] = 1\n",
    "\n",
    "    # ------------------------------------------------\n",
    "    return A, b.reshape(3,), P, q.reshape(8,), c.reshape(7,)\n",
    "    \n",
    "# test\n",
    "A, b, P, q, c = compute_constraints(G, F)\n",
    "print(A,\"\\n\", b,\"\\n\", P,\"\\n\", q,\"\\n\", c)"
   ]
  },
  {
   "cell_type": "code",
   "execution_count": 7,
   "metadata": {
    "tags": []
   },
   "outputs": [
    {
     "output_type": "stream",
     "name": "stdout",
     "text": "Optimal value of d (d^*): 0.25\n0.2524867413859962\n"
    }
   ],
   "source": [
    "def check_force_closure(A, b, P, q, c):\n",
    "    \"\"\"\n",
    "        Solves Linear program given grasp constraints - DO NOT EDIT\n",
    "        :return: d_star\n",
    "    \"\"\"\n",
    "    # ------------------------------------------------\n",
    "    # DO NOT EDIT THE CODE IN THIS FUNCTION\n",
    "    x = cp.Variable(A.shape[1])\n",
    "\n",
    "    prob = cp.Problem(cp.Maximize(c.T@x),\n",
    "                      [P @ x <= q, A @ x == b])\n",
    "    prob.solve()\n",
    "    d = prob.value\n",
    "    print('Optimal value of d (d^*): {:3.2f}'.format(d))\n",
    "    return d\n",
    "    \n",
    "# test\n",
    "d = check_force_closure(A, b, P, q, c)\n",
    "print(d)"
   ]
  },
  {
   "cell_type": "code",
   "execution_count": 8,
   "metadata": {
    "tags": []
   },
   "outputs": [
    {
     "output_type": "stream",
     "name": "stdout",
     "text": "Part 1 - Contact Locations and Normals\n[[ 0.354 -0.5    0.   ]\n [ 0.354  0.    -0.5  ]] \n\n [[-0.707  1.     0.   ]\n [-0.707  0.     1.   ]]\nPart 2 - Contact Jacobians and the Grasp Matrix\n[[-0.707 -0.707  0.     1.     1.     0.   ]\n [ 0.707 -0.707 -1.     0.    -0.     1.   ]\n [-0.5   -0.    -0.5    0.    -0.5   -0.   ]]\nPart 3 - Friction Cone Facet Normals\n[[ 0.958  0.287  0.     0.     0.     0.   ]\n [-0.958  0.287  0.     0.     0.     0.   ]\n [ 0.     0.     0.958  0.287  0.     0.   ]\n [ 0.     0.    -0.958  0.287  0.     0.   ]\n [ 0.     0.     0.     0.     0.958  0.287]\n [ 0.     0.     0.     0.    -0.958  0.287]]\nPart 4 - Grasp Rank\nTrue\nPart 5 - Grasp Constraints and Force Closure Test\n[[-0.707 -0.707  0.     1.     1.     0.     0.   ]\n [ 0.707 -0.707 -1.     0.    -0.     1.     0.   ]\n [-0.5   -0.    -0.5    0.    -0.5   -0.     0.   ]] \n\n [0. 0. 0.] \n\n [[-0.958 -0.287  0.     0.     0.     0.     1.   ]\n [ 0.958 -0.287  0.     0.     0.     0.     1.   ]\n [ 0.     0.    -0.958 -0.287  0.     0.     1.   ]\n [ 0.     0.     0.958 -0.287  0.     0.     1.   ]\n [ 0.     0.     0.     0.    -0.958 -0.287  1.   ]\n [ 0.     0.     0.     0.     0.958 -0.287  1.   ]\n [ 0.     1.     0.     1.     0.     1.     0.   ]\n [ 0.     0.     0.     0.     0.     0.    -1.   ]] \n\n [0. 0. 0. 0. 0. 0. 3. 0.] \n\n [0. 0. 0. 0. 0. 0. 1.]\n(3, 7) (3,) (8, 7) (8,) (7,)\nOptimal value of d (d^*): 0.25\nPart 6 - Definitely Something\n0.2524867413859962\nYup\n"
    }
   ],
   "source": [
    "if __name__ == \"__main__\":\n",
    "    mu = 0.3\n",
    "    R,N = get_contacts()\n",
    "    print(\"Part 1 - Contact Locations and Normals\")\n",
    "    print(R,\"\\n\\n\",N) \n",
    "    G = calculate_grasp(R, N)\n",
    "    print(\"Part 2 - Contact Jacobians and the Grasp Matrix\")\n",
    "    print(G)\n",
    "    F = calculate_facet(mu)\n",
    "    print(\"Part 3 - Friction Cone Facet Normals\")\n",
    "    print(F)\n",
    "    flag = compute_grasp_rank(G)\n",
    "    print(\"Part 4 - Grasp Rank\")\n",
    "    print(flag)\n",
    "    A, b, P, q, c = compute_constraints(G, F)\n",
    "    print(\"Part 5 - Grasp Constraints and Force Closure Test\")\n",
    "    print(A,\"\\n\\n\", b,\"\\n\\n\", P,\"\\n\\n\", q,\"\\n\\n\", c)\n",
    "    print(A.shape,b.shape,P.shape,q.shape,c.shape)\n",
    "    d = check_force_closure(A, b, P, q, c)\n",
    "    print(\"Part 6 - Definitely Something\")\n",
    "    print(d)\n",
    "    if(d!=0):\n",
    "        print(\"Yup\")\n",
    "    else:\n",
    "        print(\"Nah\")"
   ]
  }
 ]
}