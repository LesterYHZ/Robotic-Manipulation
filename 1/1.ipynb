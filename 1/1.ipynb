{
 "metadata": {
  "language_info": {
   "codemirror_mode": {
    "name": "ipython",
    "version": 3
   },
   "file_extension": ".py",
   "mimetype": "text/x-python",
   "name": "python",
   "nbconvert_exporter": "python",
   "pygments_lexer": "ipython3",
   "version": "3.7.4-final"
  },
  "orig_nbformat": 2,
  "kernelspec": {
   "name": "python37432bit8c5834cf78274e0d89d80f7fc5a99673",
   "display_name": "Python 3.7.4 32-bit"
  }
 },
 "nbformat": 4,
 "nbformat_minor": 2,
 "cells": [
  {
   "cell_type": "code",
   "execution_count": 1,
   "metadata": {},
   "outputs": [],
   "source": [
    "import numpy as np"
   ]
  },
  {
   "cell_type": "code",
   "execution_count": 2,
   "metadata": {
    "tags": []
   },
   "outputs": [
    {
     "output_type": "stream",
     "name": "stdout",
     "text": "[[ 0.92106099  0.          0.38941834]\n [ 0.2846235   0.87598106  0.38941834]\n [-0.745154    0.54138607  0.38941834]\n [-0.745154   -0.54138607  0.38941834]\n [ 0.2846235  -0.87598106  0.38941834]]\n[[ 0.70710678  0.          0.70710678]\n [-0.35355339  0.61237244  0.70710678]\n [-0.35355339 -0.61237244  0.70710678]]\n"
    }
   ],
   "source": [
    "def generate_edges(phi, n):\n",
    "    \"\"\"\n",
    "    Construct the polyhedral cone with angle phi and n edges.\n",
    "    :param phi: <float> Cone angle\n",
    "    :param n: <int> Number of cone edges\n",
    "    :return: <2-dim np.array> Cone edge matrix of size (n, 3)\n",
    "    \"\"\"\n",
    "    # ------------------------------------------------\n",
    "    # FILL WITH YOUR CODE\n",
    "\n",
    "    v = np.zeros(3)\n",
    "    # print(v)\n",
    "    V = np.zeros((n,3))\n",
    "    # print(type(V))\n",
    "    theta = 0\n",
    "\n",
    "    for i in range(n):\n",
    "        theta = 2 * np.pi * i / n \n",
    "        v = np.array([np.cos(theta)*np.cos(phi), np.sin(theta)*np.cos(phi), np.sin(phi)])\n",
    "        # print(v)\n",
    "        V[i:] = v\n",
    "        # print(V)\n",
    "\n",
    "    cone_edges = V # TODO: Replace None with your result\n",
    "    # ------------------------------------------------\n",
    "    return cone_edges\n",
    "# test \n",
    "V_ = generate_edges(phi = 0.4, n = 5)\n",
    "print(V_)\n",
    "V = generate_edges(np.pi / 4,3)\n",
    "print(V)"
   ]
  },
  {
   "cell_type": "code",
   "execution_count": 3,
   "metadata": {
    "tags": []
   },
   "outputs": [
    {
     "output_type": "stream",
     "name": "stdout",
     "text": "[[-4.33012702e-01 -7.50000000e-01  4.33012702e-01]\n [ 8.66025404e-01 -3.33066907e-16  4.33012702e-01]\n [-4.33012702e-01  7.50000000e-01  4.33012702e-01]]\n"
    }
   ],
   "source": [
    "def compute_normals(cone_edges):\n",
    "    \"\"\"\n",
    "    Compute the facet normals given the cone edge matrix.\n",
    "    :param cone_edges: <2-dim np.array> Cone edge matrix of size (n, 3)\n",
    "    :return: <2-dim np.array> Facet normals matrix of size (n, 3)\n",
    "    \"\"\"\n",
    "    # ------------------------------------------------\n",
    "    # FILL WITH YOUR CODE\n",
    "\n",
    "    V = cone_edges \n",
    "    # print(V)\n",
    "    n = len(V)\n",
    "    # print(n)\n",
    "    s = np.zeros(3)\n",
    "    S = np.zeros((n,3)) \n",
    "    # print(s,\"\\n\",S)\n",
    "\n",
    "    for i in range(n):\n",
    "        if i >= n-1:\n",
    "            s = np.cross(V[i],V[0])\n",
    "        else:\n",
    "            s = (np.cross(V[i],V[(i+1)]))\n",
    "        S[i:] = s\n",
    "\n",
    "    facet_normals = S  # TODO: Replace None with your result\n",
    "    # ------------------------------------------------\n",
    "    return facet_normals\n",
    "# test\n",
    "S = compute_normals(V)\n",
    "print(S)"
   ]
  },
  {
   "cell_type": "code",
   "execution_count": 4,
   "metadata": {
    "tags": []
   },
   "outputs": [
    {
     "output_type": "stream",
     "name": "stdout",
     "text": "0.4472135954999578\n3.3632734565152456\n"
    }
   ],
   "source": [
    "def compute_minimum_distance_from_facet_normals(a, facet_normals):\n",
    "    \"\"\"\n",
    "    Compute the minimum distance from a point 'a' to the polyhedral\n",
    "    cone parametrized by the given facet normals.\n",
    "    :param a: <np.array> 3D point\n",
    "    :param facet_normals: <2-dim np.array> Facet normals matrix of size (n, 3)\n",
    "    :return: <float> Minimum distance from 'a' to the cone.\n",
    "    \"\"\"\n",
    "    # ------------------------------------------------\n",
    "    # FILL WITH YOUR CODE\n",
    "\n",
    "    S = facet_normals\n",
    "    d = np.zeros(len(S))\n",
    "    # print(d)\n",
    "    \n",
    "    for i in range(len(S)):\n",
    "        # print(S[i])\n",
    "        S_abs = np.sqrt(S[i][0]**2+S[i][1]**2+S[i][2]**2)\n",
    "        # d[i] = np.absolute(np.dot(S[i],a) / S_abs)\n",
    "        d[i] = np.dot(S[i],a) / S_abs\n",
    "        # print(np.dot(S[i],a))\n",
    "        # print(d[i])\n",
    "    d_star = np.amin(np.absolute(d))\n",
    "\n",
    "    minimum_distance = d_star  # TODO: Replace None with your result\n",
    "    # ------------------------------------------------\n",
    "    return minimum_distance\n",
    "# test\n",
    "a = np.array([0,0,1])\n",
    "d_star1 = compute_minimum_distance_from_facet_normals(a,S)\n",
    "print(d_star1)\n",
    "a = np.array([10,-10,0.2])\n",
    "d_star2 = compute_minimum_distance_from_facet_normals(a,S)\n",
    "print(d_star2)"
   ]
  },
  {
   "cell_type": "code",
   "execution_count": 5,
   "metadata": {
    "tags": []
   },
   "outputs": [
    {
     "output_type": "stream",
     "name": "stdout",
     "text": "0.0062024061079438446\n0.09620653495102942\n"
    }
   ],
   "source": [
    "def compute_minimum_distance(a, n, phi):\n",
    "    \"\"\"\n",
    "    Compute the minimum distance from a point 'a' to the polyhedral\n",
    "    cone of n edges and angle phi\n",
    "    :param a: <np.array> 3D point\n",
    "    :param n: <int> Number of cone edges\n",
    "    :param phi: <float> Cone angle\n",
    "    :return: <float> Minimum distance from 'a' to the cone.\n",
    "    \"\"\"\n",
    "    # ------------------------------------------------\n",
    "    # FILL WITH YOUR CODE\n",
    "    V = generate_edges(phi,n)\n",
    "    S = compute_normals(V)\n",
    "    d_star = compute_minimum_distance_from_facet_normals(a,S)\n",
    "\n",
    "    minimum_distance = d_star  # TODO: Replace None with your result\n",
    "    # ------------------------------------------------\n",
    "    return minimum_distance\n",
    "# test\n",
    "d_star_1 = compute_minimum_distance(a = np.array([0.2,-0.3,0.1]), n = 7, phi = 0.3)\n",
    "print(d_star_1)\n",
    "d_star_2 = compute_minimum_distance(a = np.array([0.2,-0.3,0.1]), n = 10, phi = 0.01)\n",
    "print(d_star_2)"
   ]
  },
  {
   "cell_type": "code",
   "execution_count": 6,
   "metadata": {
    "tags": []
   },
   "outputs": [
    {
     "output_type": "stream",
     "name": "stdout",
     "text": "False\nTrue\n"
    }
   ],
   "source": [
    "def check_is_interior_point(a, n, phi):\n",
    "    \"\"\"\n",
    "    Return whether a is an interior point of the polyhedral cone\n",
    "    of n edges and angle phi\n",
    "    :param a: <np.array> 3D point\n",
    "    :param n: <int> Number of cone edges\n",
    "    :param phi: <float> Cone angle\n",
    "    :return: <bool> If a is an interior point\n",
    "    \"\"\"\n",
    "    # ------------------------------------------------\n",
    "    # FILL WITH YOUR CODE\n",
    "\n",
    "    V = generate_edges(phi,n)\n",
    "    S = compute_normals(V)\n",
    "    d = np.zeros(len(S))\n",
    "    # print(d)\n",
    "    \n",
    "    for i in range(len(S)):\n",
    "        # print(S[i])\n",
    "        S_abs = np.sqrt(S[i][0]**2+S[i][1]**2+S[i][2]**2)\n",
    "        # d[i] = np.absolute(np.dot(S[i],a) / S_abs)\n",
    "        d[i] = np.dot(S[i],a) / S_abs\n",
    "        # print(np.dot(S[i],a))\n",
    "        # print(d[i])\n",
    "    d_star = np.amin(d)\n",
    "\n",
    "    result = d_star > 0\n",
    "\n",
    "    is_interior_point = result  # TODO: Replace None with your result\n",
    "    # ------------------------------------------------\n",
    "    return is_interior_point\n",
    "# test\n",
    "res1 = check_is_interior_point(a = np.array([0.2,-0.3,0.1]), n = 7, phi = 0.3)\n",
    "print(res1)\n",
    "res2 = check_is_interior_point(a = np.array([0.2,-0.3,10]), n = 7, phi = 0.3)\n",
    "print(res2)"
   ]
  },
  {
   "cell_type": "code",
   "execution_count": 7,
   "metadata": {
    "tags": []
   },
   "outputs": [
    {
     "output_type": "stream",
     "name": "stdout",
     "text": "Generate Edges\n[[ 8.66025404e-01  0.00000000e+00  5.00000000e-01]\n [ 5.30287619e-17  8.66025404e-01  5.00000000e-01]\n [-8.66025404e-01  1.06057524e-16  5.00000000e-01]\n [-1.59086286e-16 -8.66025404e-01  5.00000000e-01]]\n\nComptue Normals\n[[-0.4330127 -0.4330127  0.75     ]\n [ 0.4330127 -0.4330127  0.75     ]\n [ 0.4330127  0.4330127  0.75     ]\n [-0.4330127  0.4330127  0.75     ]]\n\nCompute Minimum Distance from Facet Normals\n0.7701245332864838\n\nCompute Minimum Distance\n0.7701245332864838\n\nCheck is Interior Point\nTrue\n\n"
    }
   ],
   "source": [
    "if __name__ == \"__main__\":\n",
    "    # You can use this main function to test your code with some test values\n",
    "\n",
    "    # Test values\n",
    "    phi = 30. * np.pi / 180.\n",
    "    n = 4\n",
    "    a = np.array([0.00, 0.01, 1.00])\n",
    "\n",
    "    # Example for testing your functions\n",
    "    cone_edges = generate_edges(phi, n)\n",
    "    print(\"Generate Edges\")\n",
    "    print(cone_edges)\n",
    "    print()\n",
    "    facet_normals = compute_normals(cone_edges)\n",
    "    print(\"Comptue Normals\")\n",
    "    print(facet_normals)\n",
    "    print()\n",
    "    minimum_distance = compute_minimum_distance_from_facet_normals(a, facet_normals)\n",
    "    print(\"Compute Minimum Distance from Facet Normals\")\n",
    "    print(minimum_distance)\n",
    "    print()\n",
    "    minimum_distance_ = compute_minimum_distance(a, n, phi)\n",
    "    print(\"Compute Minimum Distance\")\n",
    "    print(minimum_distance_)\n",
    "    print()\n",
    "    Result = check_is_interior_point(a, n, phi)\n",
    "    print(\"Check is Interior Point\")\n",
    "    print(Result)\n",
    "    print()"
   ]
  }
 ]
}